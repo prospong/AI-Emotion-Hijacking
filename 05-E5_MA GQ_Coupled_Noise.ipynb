{
 "cells": [
  {
   "cell_type": "markdown",
   "id": "2598b652",
   "metadata": {},
   "source": [
    "# E5_MA GQ_Coupled_Noise\n",
    "\n",
    "_No matched cells by heuristic; please adjust keywords._"
   ]
  }
 ],
 "metadata": {
  "colab": {
   "provenance": []
  },
  "kernelspec": {
   "display_name": "Python 3",
   "name": "python3"
  },
  "language_info": {
   "name": "python"
  },
  "research_unit": "E5_MA GQ_Coupled_Noise",
  "split_from": "AI-Emotion-Hijacking.ipynb"
 },
 "nbformat": 4,
 "nbformat_minor": 5
}
