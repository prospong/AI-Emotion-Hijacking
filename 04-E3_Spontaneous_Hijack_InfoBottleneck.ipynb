{
 "cells": [
  {
   "cell_type": "markdown",
   "id": "e90679dd",
   "metadata": {},
   "source": [
    "# E3_Spontaneous_Hijack_InfoBottleneck\n",
    "\n",
    "_No matched cells by heuristic; please adjust keywords._"
   ]
  }
 ],
 "metadata": {
  "colab": {
   "provenance": []
  },
  "kernelspec": {
   "display_name": "Python 3",
   "name": "python3"
  },
  "language_info": {
   "name": "python"
  },
  "research_unit": "E3_Spontaneous_Hijack_InfoBottleneck",
  "split_from": "AI-Emotion-Hijacking.ipynb"
 },
 "nbformat": 4,
 "nbformat_minor": 5
}
